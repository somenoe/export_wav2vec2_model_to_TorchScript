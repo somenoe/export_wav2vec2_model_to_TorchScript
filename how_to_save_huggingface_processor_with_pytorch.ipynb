{
 "cells": [
  {
   "cell_type": "markdown",
   "metadata": {},
   "source": [
    "# How to save the processor form huggingface with pytorch?\n",
    "\n",
    "In previous notebook I have save model to .pt. This time I wonder can I save the processor like the model."
   ]
  },
  {
   "cell_type": "markdown",
   "metadata": {},
   "source": [
    "## Save wav2vec2 processor "
   ]
  },
  {
   "cell_type": "code",
   "execution_count": 1,
   "metadata": {},
   "outputs": [
    {
     "name": "stderr",
     "output_type": "stream",
     "text": [
      "Special tokens have been added in the vocabulary, make sure the associated word embeddings are fine-tuned or trained.\n"
     ]
    }
   ],
   "source": [
    "from transformers import Wav2Vec2Processor\n",
    "\n",
    "# Instantiating the processor\n",
    "processor = Wav2Vec2Processor.from_pretrained(\n",
    "    \"airesearch/wav2vec2-large-xlsr-53-th\")\n"
   ]
  },
  {
   "cell_type": "code",
   "execution_count": 2,
   "metadata": {},
   "outputs": [],
   "source": [
    "import torch\n",
    "\n",
    "# Specify a path to save to\n",
    "PATH = \"./model/wav2vec2_processor.pt\"\n",
    "\n",
    "# Save\n",
    "torch.save(processor, PATH)\n"
   ]
  },
  {
   "cell_type": "markdown",
   "metadata": {},
   "source": [
    "## Load wav2vec2 processor "
   ]
  },
  {
   "cell_type": "markdown",
   "metadata": {},
   "source": [
    "### try method in [this pytorch site](https://pytorch.org/tutorials/recipes/recipes/save_load_across_devices.html)"
   ]
  },
  {
   "cell_type": "code",
   "execution_count": 3,
   "metadata": {},
   "outputs": [
    {
     "name": "stdout",
     "output_type": "stream",
     "text": [
      "Net(\n",
      "  (conv1): Conv2d(3, 6, kernel_size=(5, 5), stride=(1, 1))\n",
      "  (pool): MaxPool2d(kernel_size=2, stride=2, padding=0, dilation=1, ceil_mode=False)\n",
      "  (conv2): Conv2d(6, 16, kernel_size=(5, 5), stride=(1, 1))\n",
      "  (fc1): Linear(in_features=400, out_features=120, bias=True)\n",
      "  (fc2): Linear(in_features=120, out_features=84, bias=True)\n",
      "  (fc3): Linear(in_features=84, out_features=10, bias=True)\n",
      ")\n"
     ]
    }
   ],
   "source": [
    "import torch.nn as nn\n",
    "\n",
    "class Net(nn.Module):\n",
    "    def __init__(self):\n",
    "        super(Net, self).__init__()\n",
    "        self.conv1 = nn.Conv2d(3, 6, 5)\n",
    "        self.pool = nn.MaxPool2d(2, 2)\n",
    "        self.conv2 = nn.Conv2d(6, 16, 5)\n",
    "        self.fc1 = nn.Linear(16 * 5 * 5, 120)\n",
    "        self.fc2 = nn.Linear(120, 84)\n",
    "        self.fc3 = nn.Linear(84, 10)\n",
    "\n",
    "    def forward(self, x):\n",
    "        x = self.pool(F.relu(self.conv1(x)))\n",
    "        x = self.pool(F.relu(self.conv2(x)))\n",
    "        x = x.view(-1, 16 * 5 * 5)\n",
    "        x = F.relu(self.fc1(x))\n",
    "        x = F.relu(self.fc2(x))\n",
    "        x = self.fc3(x)\n",
    "        return x\n",
    "\n",
    "\n",
    "net = Net()\n",
    "print(net)\n"
   ]
  },
  {
   "cell_type": "markdown",
   "metadata": {},
   "source": [
    "### try method another method\n",
    "\n",
    "\n",
    "I think I work because \n",
    "1. I did not save using their method.\n",
    "2. The pocessor did not have method state_dict()."
   ]
  },
  {
   "cell_type": "code",
   "execution_count": 4,
   "metadata": {},
   "outputs": [],
   "source": [
    "model3 = torch.load(PATH)"
   ]
  },
  {
   "cell_type": "code",
   "execution_count": 5,
   "metadata": {},
   "outputs": [
    {
     "data": {
      "text/plain": [
       "<transformers.models.wav2vec2.processing_wav2vec2.Wav2Vec2Processor at 0x7f9de55a0450>"
      ]
     },
     "execution_count": 5,
     "metadata": {},
     "output_type": "execute_result"
    }
   ],
   "source": [
    "model3"
   ]
  },
  {
   "cell_type": "code",
   "execution_count": 6,
   "metadata": {},
   "outputs": [],
   "source": [
    "import audio2numpy as a2n\n",
    "import numpy as np\n",
    "import torchaudio\n",
    "\n",
    "def load_mp3_to_array_fn(path: str):\n",
    "    r\"\"\"replace: torchaudio.load(path) which cannot load .mp3\"\"\"\n",
    "    speech_array, _ = a2n.audio_from_file(path)\n",
    "    speech_array = torch.tensor(np.array([speech_array]))\n",
    "    resampler = torchaudio.transforms.Resample(48_000, 16_000)\n",
    "    tensor = resampler(speech_array).squeeze().numpy()\n",
    "    return tensor\n"
   ]
  },
  {
   "cell_type": "code",
   "execution_count": 7,
   "metadata": {},
   "outputs": [],
   "source": [
    "loaded_model = torch.jit.load(\n",
    "    \"./model/airesearch-wav2vec2-large-xlsr-53-th.pt\")"
   ]
  },
  {
   "cell_type": "code",
   "execution_count": 8,
   "metadata": {},
   "outputs": [
    {
     "name": "stderr",
     "output_type": "stream",
     "text": [
      "/home/somenoe/miniconda3/envs/py37/lib/python3.7/site-packages/transformers/feature_extraction_utils.py:158: UserWarning: Creating a tensor from a list of numpy.ndarrays is extremely slow. Please consider converting the list to a single numpy.ndarray with numpy.array() before converting to a tensor. (Triggered internally at  /opt/conda/conda-bld/pytorch_1640811797118/work/torch/csrc/utils/tensor_new.cpp:201.)\n",
      "  tensor = as_tensor(value)\n"
     ]
    },
    {
     "name": "stdout",
     "output_type": "stream",
     "text": [
      "Prediction: ['พวกเรา อาจจะ ต้องการ ความช่วยเหลือ จาก เธอ ในที่สุด']\n"
     ]
    }
   ],
   "source": [
    "# Test original model from huggingface\n",
    "path = r\"./mp3/common_voice_th_23646618.mp3\"\n",
    "\n",
    "tensor = load_mp3_to_array_fn(path)\n",
    "\n",
    "inputs = model3(tensor, sampling_rate=16_000,\n",
    "                   return_tensors=\"pt\", padding=True)\n",
    "\n",
    "input_values = inputs.input_values.to(\"cuda\")\n",
    "\n",
    "with torch.no_grad():\n",
    "    logits = loaded_model(input_values)['logits']\n",
    "\n",
    "predicted_ids = torch.argmax(logits, dim=-1)\n",
    "\n",
    "print(\"Prediction:\", model3.batch_decode(predicted_ids))\n"
   ]
  }
 ],
 "metadata": {
  "interpreter": {
   "hash": "afcc3f174a54b9124e4ea559ab003dbb6b7f544f0cbfa774d928069587fc0782"
  },
  "kernelspec": {
   "display_name": "Python 3.9.10 64-bit (windows store)",
   "language": "python",
   "name": "python3"
  },
  "language_info": {
   "codemirror_mode": {
    "name": "ipython",
    "version": 3
   },
   "file_extension": ".py",
   "mimetype": "text/x-python",
   "name": "python",
   "nbconvert_exporter": "python",
   "pygments_lexer": "ipython3",
   "version": "3.7.11"
  },
  "orig_nbformat": 4
 },
 "nbformat": 4,
 "nbformat_minor": 2
}
